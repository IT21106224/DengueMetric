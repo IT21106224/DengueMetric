{
 "cells": [
  {
   "cell_type": "code",
   "execution_count": null,
   "id": "930a358f",
   "metadata": {},
   "outputs": [],
   "source": [
    "File \"C:\\Users\\Stepheny\\anaconda3\\lib\\site-packages\\streamlit\\runtime\\scriptrunner\\exec_code.py\", line 88, in exec_func_with_error_handling\n",
    "    result = func()\n",
    "File \"C:\\Users\\Stepheny\\anaconda3\\lib\\site-packages\\streamlit\\runtime\\scriptrunner\\script_runner.py\", line 579, in code_to_exec\n",
    "    exec(code, module.__dict__)\n",
    "File \"C:\\Users\\Stepheny\\Desktop\\old\\mainV1.1.py\", line 2, in <module>\n",
    "    from streamlit_option_menu import option_menu"
   ]
  },
  {
   "cell_type": "code",
   "execution_count": 1,
   "id": "10bc6be9",
   "metadata": {},
   "outputs": [
    {
     "name": "stdout",
     "output_type": "stream",
     "text": [
      "Collecting streamlit-option-menu\n",
      "  Using cached streamlit_option_menu-0.4.0-py3-none-any.whl (829 kB)\n",
      "Requirement already satisfied: streamlit>=1.36 in c:\\users\\stepheny\\anaconda3\\lib\\site-packages (from streamlit-option-menu) (1.39.0)\n",
      "Requirement already satisfied: pandas<3,>=1.4.0 in c:\\users\\stepheny\\anaconda3\\lib\\site-packages (from streamlit>=1.36->streamlit-option-menu) (1.5.3)\n",
      "Requirement already satisfied: altair<6,>=4.0 in c:\\users\\stepheny\\anaconda3\\lib\\site-packages (from streamlit>=1.36->streamlit-option-menu) (5.1.2)\n",
      "Requirement already satisfied: click<9,>=7.0 in c:\\users\\stepheny\\anaconda3\\lib\\site-packages (from streamlit>=1.36->streamlit-option-menu) (8.0.4)\n",
      "Requirement already satisfied: numpy<3,>=1.20 in c:\\users\\stepheny\\anaconda3\\lib\\site-packages (from streamlit>=1.36->streamlit-option-menu) (1.23.5)\n",
      "Requirement already satisfied: cachetools<6,>=4.0 in c:\\users\\stepheny\\anaconda3\\lib\\site-packages (from streamlit>=1.36->streamlit-option-menu) (5.3.1)\n",
      "Requirement already satisfied: pydeck<1,>=0.8.0b4 in c:\\users\\stepheny\\anaconda3\\lib\\site-packages (from streamlit>=1.36->streamlit-option-menu) (0.8.1b0)\n",
      "Requirement already satisfied: blinker<2,>=1.0.0 in c:\\users\\stepheny\\anaconda3\\lib\\site-packages (from streamlit>=1.36->streamlit-option-menu) (1.6.3)\n",
      "Requirement already satisfied: tornado<7,>=6.0.3 in c:\\users\\stepheny\\anaconda3\\lib\\site-packages (from streamlit>=1.36->streamlit-option-menu) (6.1)\n",
      "Requirement already satisfied: rich<14,>=10.14.0 in c:\\users\\stepheny\\anaconda3\\lib\\site-packages (from streamlit>=1.36->streamlit-option-menu) (13.6.0)\n",
      "Requirement already satisfied: protobuf<6,>=3.20 in c:\\users\\stepheny\\anaconda3\\lib\\site-packages (from streamlit>=1.36->streamlit-option-menu) (4.24.4)\n",
      "Requirement already satisfied: requests<3,>=2.27 in c:\\users\\stepheny\\anaconda3\\lib\\site-packages (from streamlit>=1.36->streamlit-option-menu) (2.28.1)\n",
      "Requirement already satisfied: pyarrow>=7.0 in c:\\users\\stepheny\\anaconda3\\lib\\site-packages (from streamlit>=1.36->streamlit-option-menu) (13.0.0)\n",
      "Requirement already satisfied: typing-extensions<5,>=4.3.0 in c:\\users\\stepheny\\anaconda3\\lib\\site-packages (from streamlit>=1.36->streamlit-option-menu) (4.4.0)\n",
      "Requirement already satisfied: pillow<11,>=7.1.0 in c:\\users\\stepheny\\anaconda3\\lib\\site-packages (from streamlit>=1.36->streamlit-option-menu) (9.4.0)\n",
      "Requirement already satisfied: tenacity<10,>=8.1.0 in c:\\users\\stepheny\\anaconda3\\lib\\site-packages (from streamlit>=1.36->streamlit-option-menu) (8.2.3)\n",
      "Requirement already satisfied: packaging<25,>=20 in c:\\users\\stepheny\\anaconda3\\lib\\site-packages (from streamlit>=1.36->streamlit-option-menu) (23.2)\n",
      "Requirement already satisfied: gitpython!=3.1.19,<4,>=3.0.7 in c:\\users\\stepheny\\anaconda3\\lib\\site-packages (from streamlit>=1.36->streamlit-option-menu) (3.1.40)\n",
      "Requirement already satisfied: watchdog<6,>=2.1.5 in c:\\users\\stepheny\\anaconda3\\lib\\site-packages (from streamlit>=1.36->streamlit-option-menu) (2.1.6)\n",
      "Requirement already satisfied: toml<2,>=0.10.1 in c:\\users\\stepheny\\anaconda3\\lib\\site-packages (from streamlit>=1.36->streamlit-option-menu) (0.10.2)\n",
      "Requirement already satisfied: toolz in c:\\users\\stepheny\\anaconda3\\lib\\site-packages (from altair<6,>=4.0->streamlit>=1.36->streamlit-option-menu) (0.12.0)\n",
      "Requirement already satisfied: jinja2 in c:\\users\\stepheny\\anaconda3\\lib\\site-packages (from altair<6,>=4.0->streamlit>=1.36->streamlit-option-menu) (3.1.2)\n",
      "Requirement already satisfied: jsonschema>=3.0 in c:\\users\\stepheny\\anaconda3\\lib\\site-packages (from altair<6,>=4.0->streamlit>=1.36->streamlit-option-menu) (4.17.3)\n",
      "Requirement already satisfied: colorama in c:\\users\\stepheny\\anaconda3\\lib\\site-packages (from click<9,>=7.0->streamlit>=1.36->streamlit-option-menu) (0.4.6)\n",
      "Requirement already satisfied: gitdb<5,>=4.0.1 in c:\\users\\stepheny\\anaconda3\\lib\\site-packages (from gitpython!=3.1.19,<4,>=3.0.7->streamlit>=1.36->streamlit-option-menu) (4.0.10)\n",
      "Requirement already satisfied: python-dateutil>=2.8.1 in c:\\users\\stepheny\\anaconda3\\lib\\site-packages (from pandas<3,>=1.4.0->streamlit>=1.36->streamlit-option-menu) (2.8.2)\n",
      "Requirement already satisfied: pytz>=2020.1 in c:\\users\\stepheny\\anaconda3\\lib\\site-packages (from pandas<3,>=1.4.0->streamlit>=1.36->streamlit-option-menu) (2022.7)\n",
      "Requirement already satisfied: urllib3<1.27,>=1.21.1 in c:\\users\\stepheny\\anaconda3\\lib\\site-packages (from requests<3,>=2.27->streamlit>=1.36->streamlit-option-menu) (1.26.14)\n",
      "Requirement already satisfied: certifi>=2017.4.17 in c:\\users\\stepheny\\anaconda3\\lib\\site-packages (from requests<3,>=2.27->streamlit>=1.36->streamlit-option-menu) (2023.7.22)\n",
      "Requirement already satisfied: charset-normalizer<3,>=2 in c:\\users\\stepheny\\anaconda3\\lib\\site-packages (from requests<3,>=2.27->streamlit>=1.36->streamlit-option-menu) (2.0.4)\n",
      "Requirement already satisfied: idna<4,>=2.5 in c:\\users\\stepheny\\anaconda3\\lib\\site-packages (from requests<3,>=2.27->streamlit>=1.36->streamlit-option-menu) (3.4)\n",
      "Requirement already satisfied: pygments<3.0.0,>=2.13.0 in c:\\users\\stepheny\\anaconda3\\lib\\site-packages (from rich<14,>=10.14.0->streamlit>=1.36->streamlit-option-menu) (2.16.1)\n",
      "Requirement already satisfied: markdown-it-py>=2.2.0 in c:\\users\\stepheny\\anaconda3\\lib\\site-packages (from rich<14,>=10.14.0->streamlit>=1.36->streamlit-option-menu) (3.0.0)\n",
      "Requirement already satisfied: smmap<6,>=3.0.1 in c:\\users\\stepheny\\anaconda3\\lib\\site-packages (from gitdb<5,>=4.0.1->gitpython!=3.1.19,<4,>=3.0.7->streamlit>=1.36->streamlit-option-menu) (5.0.1)\n",
      "Requirement already satisfied: MarkupSafe>=2.0 in c:\\users\\stepheny\\anaconda3\\lib\\site-packages (from jinja2->altair<6,>=4.0->streamlit>=1.36->streamlit-option-menu) (2.1.1)\n",
      "Requirement already satisfied: attrs>=17.4.0 in c:\\users\\stepheny\\anaconda3\\lib\\site-packages (from jsonschema>=3.0->altair<6,>=4.0->streamlit>=1.36->streamlit-option-menu) (22.1.0)\n",
      "Requirement already satisfied: pyrsistent!=0.17.0,!=0.17.1,!=0.17.2,>=0.14.0 in c:\\users\\stepheny\\anaconda3\\lib\\site-packages (from jsonschema>=3.0->altair<6,>=4.0->streamlit>=1.36->streamlit-option-menu) (0.18.0)\n",
      "Requirement already satisfied: mdurl~=0.1 in c:\\users\\stepheny\\anaconda3\\lib\\site-packages (from markdown-it-py>=2.2.0->rich<14,>=10.14.0->streamlit>=1.36->streamlit-option-menu) (0.1.2)\n",
      "Requirement already satisfied: six>=1.5 in c:\\users\\stepheny\\anaconda3\\lib\\site-packages (from python-dateutil>=2.8.1->pandas<3,>=1.4.0->streamlit>=1.36->streamlit-option-menu) (1.16.0)\n",
      "Installing collected packages: streamlit-option-menu\n",
      "Successfully installed streamlit-option-menu-0.4.0\n",
      "Note: you may need to restart the kernel to use updated packages.\n"
     ]
    },
    {
     "name": "stderr",
     "output_type": "stream",
     "text": [
      "WARNING: Ignoring invalid distribution -treamlit (c:\\users\\stepheny\\anaconda3\\lib\\site-packages)\n",
      "WARNING: Ignoring invalid distribution -ensorflow-intel (c:\\users\\stepheny\\anaconda3\\lib\\site-packages)\n",
      "WARNING: Ignoring invalid distribution -treamlit (c:\\users\\stepheny\\anaconda3\\lib\\site-packages)\n",
      "WARNING: Ignoring invalid distribution -ensorflow-intel (c:\\users\\stepheny\\anaconda3\\lib\\site-packages)\n",
      "WARNING: Ignoring invalid distribution -treamlit (c:\\users\\stepheny\\anaconda3\\lib\\site-packages)\n",
      "WARNING: Ignoring invalid distribution -ensorflow-intel (c:\\users\\stepheny\\anaconda3\\lib\\site-packages)\n",
      "WARNING: Ignoring invalid distribution -treamlit (c:\\users\\stepheny\\anaconda3\\lib\\site-packages)\n",
      "WARNING: Ignoring invalid distribution -ensorflow-intel (c:\\users\\stepheny\\anaconda3\\lib\\site-packages)\n",
      "WARNING: Ignoring invalid distribution -treamlit (c:\\users\\stepheny\\anaconda3\\lib\\site-packages)\n",
      "WARNING: Ignoring invalid distribution -ensorflow-intel (c:\\users\\stepheny\\anaconda3\\lib\\site-packages)\n",
      "WARNING: Ignoring invalid distribution -treamlit (c:\\users\\stepheny\\anaconda3\\lib\\site-packages)\n",
      "WARNING: Ignoring invalid distribution -ensorflow-intel (c:\\users\\stepheny\\anaconda3\\lib\\site-packages)\n",
      "WARNING: Ignoring invalid distribution -treamlit (c:\\users\\stepheny\\anaconda3\\lib\\site-packages)\n",
      "WARNING: Ignoring invalid distribution -ensorflow-intel (c:\\users\\stepheny\\anaconda3\\lib\\site-packages)\n"
     ]
    }
   ],
   "source": [
    "pip install streamlit-option-menu\n"
   ]
  },
  {
   "cell_type": "code",
   "execution_count": 2,
   "id": "3fcc0c06",
   "metadata": {},
   "outputs": [
    {
     "name": "stdout",
     "output_type": "stream",
     "text": [
      "Name: xgboost\n",
      "Version: 1.7.6\n",
      "Summary: XGBoost Python Package\n",
      "Home-page: https://github.com/dmlc/xgboost\n",
      "Author: \n",
      "Author-email: \n",
      "License: Apache-2.0\n",
      "Location: c:\\users\\stepheny\\anaconda3\\lib\\site-packages\n",
      "Requires: numpy, scipy\n",
      "Required-by: lazypredict\n",
      "Note: you may need to restart the kernel to use updated packages.\n"
     ]
    },
    {
     "name": "stderr",
     "output_type": "stream",
     "text": [
      "WARNING: Ignoring invalid distribution -treamlit (c:\\users\\stepheny\\anaconda3\\lib\\site-packages)\n",
      "WARNING: Ignoring invalid distribution -ensorflow-intel (c:\\users\\stepheny\\anaconda3\\lib\\site-packages)\n"
     ]
    }
   ],
   "source": [
    "pip show xgboost\n"
   ]
  },
  {
   "cell_type": "code",
   "execution_count": 3,
   "id": "fc80a29b",
   "metadata": {},
   "outputs": [
    {
     "name": "stdout",
     "output_type": "stream",
     "text": [
      "Requirement already satisfied: xgboost in c:\\users\\stepheny\\anaconda3\\lib\\site-packages (1.7.6)\n",
      "Collecting xgboost\n",
      "  Downloading xgboost-2.1.2-py3-none-win_amd64.whl (124.9 MB)\n",
      "     -------------------------------------- 124.9/124.9 MB 5.5 MB/s eta 0:00:00\n",
      "Requirement already satisfied: scipy in c:\\users\\stepheny\\anaconda3\\lib\\site-packages (from xgboost) (1.10.1)\n",
      "Requirement already satisfied: numpy in c:\\users\\stepheny\\anaconda3\\lib\\site-packages (from xgboost) (1.23.5)\n",
      "Installing collected packages: xgboost\n",
      "  Attempting uninstall: xgboost\n",
      "    Found existing installation: xgboost 1.7.6\n",
      "    Uninstalling xgboost-1.7.6:\n",
      "      Successfully uninstalled xgboost-1.7.6\n",
      "Note: you may need to restart the kernel to use updated packages.\n"
     ]
    },
    {
     "name": "stderr",
     "output_type": "stream",
     "text": [
      "WARNING: Ignoring invalid distribution -treamlit (c:\\users\\stepheny\\anaconda3\\lib\\site-packages)\n",
      "WARNING: Ignoring invalid distribution -ensorflow-intel (c:\\users\\stepheny\\anaconda3\\lib\\site-packages)\n",
      "WARNING: Ignoring invalid distribution -treamlit (c:\\users\\stepheny\\anaconda3\\lib\\site-packages)\n",
      "WARNING: Ignoring invalid distribution -ensorflow-intel (c:\\users\\stepheny\\anaconda3\\lib\\site-packages)\n",
      "WARNING: Ignoring invalid distribution -treamlit (c:\\users\\stepheny\\anaconda3\\lib\\site-packages)\n",
      "WARNING: Ignoring invalid distribution -ensorflow-intel (c:\\users\\stepheny\\anaconda3\\lib\\site-packages)\n",
      "    WARNING: Ignoring invalid distribution -treamlit (c:\\users\\stepheny\\anaconda3\\lib\\site-packages)\n",
      "    WARNING: Ignoring invalid distribution -ensorflow-intel (c:\\users\\stepheny\\anaconda3\\lib\\site-packages)\n",
      "ERROR: Could not install packages due to an OSError: [WinError 5] Access is denied: 'C:\\\\Users\\\\Stepheny\\\\anaconda3\\\\Lib\\\\site-packages\\\\~gboost\\\\lib\\\\xgboost.dll'\n",
      "Consider using the `--user` option or check the permissions.\n",
      "\n",
      "WARNING: Ignoring invalid distribution -treamlit (c:\\users\\stepheny\\anaconda3\\lib\\site-packages)\n",
      "WARNING: Ignoring invalid distribution -ensorflow-intel (c:\\users\\stepheny\\anaconda3\\lib\\site-packages)\n",
      "WARNING: Ignoring invalid distribution -treamlit (c:\\users\\stepheny\\anaconda3\\lib\\site-packages)\n",
      "WARNING: Ignoring invalid distribution -ensorflow-intel (c:\\users\\stepheny\\anaconda3\\lib\\site-packages)\n",
      "WARNING: Ignoring invalid distribution -treamlit (c:\\users\\stepheny\\anaconda3\\lib\\site-packages)\n",
      "WARNING: Ignoring invalid distribution -ensorflow-intel (c:\\users\\stepheny\\anaconda3\\lib\\site-packages)\n"
     ]
    }
   ],
   "source": [
    "pip install --upgrade xgboost\n"
   ]
  },
  {
   "cell_type": "code",
   "execution_count": 4,
   "id": "5935d6f7",
   "metadata": {},
   "outputs": [
    {
     "name": "stdout",
     "output_type": "stream",
     "text": [
      "Name: xgboost\n",
      "Version: 2.1.2\n",
      "Summary: XGBoost Python Package\n",
      "Home-page: \n",
      "Author: \n",
      "Author-email: Hyunsu Cho <chohyu01@cs.washington.edu>, Jiaming Yuan <jm.yuan@outlook.com>\n",
      "License: Apache-2.0\n",
      "Location: c:\\users\\stepheny\\anaconda3\\lib\\site-packages\n",
      "Requires: numpy, scipy\n",
      "Required-by: lazypredict\n",
      "Note: you may need to restart the kernel to use updated packages.\n"
     ]
    },
    {
     "name": "stderr",
     "output_type": "stream",
     "text": [
      "WARNING: Ignoring invalid distribution -treamlit (c:\\users\\stepheny\\anaconda3\\lib\\site-packages)\n",
      "WARNING: Ignoring invalid distribution -ensorflow-intel (c:\\users\\stepheny\\anaconda3\\lib\\site-packages)\n"
     ]
    }
   ],
   "source": [
    "pip show xgboost"
   ]
  },
  {
   "cell_type": "code",
   "execution_count": null,
   "id": "ca5a5959",
   "metadata": {},
   "outputs": [],
   "source": []
  }
 ],
 "metadata": {
  "kernelspec": {
   "display_name": "Python 3 (ipykernel)",
   "language": "python",
   "name": "python3"
  },
  "language_info": {
   "codemirror_mode": {
    "name": "ipython",
    "version": 3
   },
   "file_extension": ".py",
   "mimetype": "text/x-python",
   "name": "python",
   "nbconvert_exporter": "python",
   "pygments_lexer": "ipython3",
   "version": "3.10.9"
  }
 },
 "nbformat": 4,
 "nbformat_minor": 5
}
